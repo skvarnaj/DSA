{
 "cells": [
  {
   "cell_type": "code",
   "execution_count": 1,
   "metadata": {},
   "outputs": [],
   "source": [
    "# lists"
   ]
  },
  {
   "cell_type": "code",
   "execution_count": 3,
   "metadata": {},
   "outputs": [],
   "source": [
    "ints = [1,2,3,4]\n",
    "strings = ['milk', 'juice', 'water']\n",
    "mixed = ['a', 1,2, 'b']\n",
    "nested = [1,2,3, [4,5], ['yes', 'no']]"
   ]
  },
  {
   "cell_type": "code",
   "execution_count": 9,
   "metadata": {},
   "outputs": [
    {
     "name": "stdout",
     "output_type": "stream",
     "text": [
      "True\n",
      "4\n",
      "juice\n"
     ]
    }
   ],
   "source": [
    "print('milk' in strings)\n",
    "print(nested[3][0])\n",
    "print(strings[-2])"
   ]
  },
  {
   "cell_type": "code",
   "execution_count": 13,
   "metadata": {},
   "outputs": [
    {
     "data": {
      "text/plain": [
       "['milk', 'juice', 'water']"
      ]
     },
     "execution_count": 13,
     "metadata": {},
     "output_type": "execute_result"
    }
   ],
   "source": [
    "[i.lower() for i in strings]"
   ]
  },
  {
   "cell_type": "code",
   "execution_count": 15,
   "metadata": {},
   "outputs": [],
   "source": [
    "for i in range(len(strings)):\n",
    "    strings[i] = strings[i] + \"_\""
   ]
  },
  {
   "cell_type": "code",
   "execution_count": 16,
   "metadata": {},
   "outputs": [
    {
     "data": {
      "text/plain": [
       "['milk_', 'juice_', 'water_']"
      ]
     },
     "execution_count": 16,
     "metadata": {},
     "output_type": "execute_result"
    }
   ],
   "source": [
    "strings"
   ]
  },
  {
   "cell_type": "code",
   "execution_count": 17,
   "metadata": {},
   "outputs": [
    {
     "data": {
      "text/plain": [
       "['milk_____', 'juice_____', 'water_____']"
      ]
     },
     "execution_count": 17,
     "metadata": {},
     "output_type": "execute_result"
    }
   ],
   "source": [
    "[i + \"____\" for i in strings]"
   ]
  },
  {
   "cell_type": "code",
   "execution_count": 20,
   "metadata": {},
   "outputs": [
    {
     "data": {
      "text/plain": [
       "[1, 2, 33, 4, 5, 6, 7]"
      ]
     },
     "execution_count": 20,
     "metadata": {},
     "output_type": "execute_result"
    }
   ],
   "source": [
    "# replace value\n",
    "my_list = [1,2,3,4,5,6,7]\n",
    "my_list[2] = 33\n",
    "my_list"
   ]
  },
  {
   "cell_type": "code",
   "execution_count": 22,
   "metadata": {},
   "outputs": [
    {
     "name": "stdout",
     "output_type": "stream",
     "text": [
      "[1, 2, 3, 4, 5, 6, 7]\n",
      "[10, 1, 2, 3, 4, 5, 6, 7]\n",
      "[1, 2, 3, 4, 5, 6, 7]\n",
      "[1, 2, 3, 4, 5, 6, 7, 10]\n"
     ]
    }
   ],
   "source": [
    "# insertion - reason why I've never seen, don't really use\n",
    "my_list = [1,2,3,4,5,6,7]\n",
    "print(my_list)\n",
    "my_list.insert(0,10)\n",
    "print(my_list)\n",
    "\n",
    "# O(n)"
   ]
  },
  {
   "cell_type": "code",
   "execution_count": 23,
   "metadata": {},
   "outputs": [
    {
     "name": "stdout",
     "output_type": "stream",
     "text": [
      "[1, 2, 3, 4, 5, 6, 7]\n",
      "[1, 2, 3, 4, 5, 6, 7, 10]\n"
     ]
    }
   ],
   "source": [
    "# append\n",
    "my_list = [1,2,3,4,5,6,7]\n",
    "print(my_list)\n",
    "my_list.append(10)\n",
    "print(my_list)\n",
    "\n",
    "#O(1)"
   ]
  },
  {
   "cell_type": "code",
   "execution_count": 25,
   "metadata": {},
   "outputs": [
    {
     "name": "stdout",
     "output_type": "stream",
     "text": [
      "[1, 2, 3, 4, 5, 6, 7]\n",
      "[1, 2, 3, 4, 5, 6, 7, 10, 100, 1000]\n"
     ]
    }
   ],
   "source": [
    "# extend\n",
    "my_list = [1,2,3,4,5,6,7]\n",
    "print(my_list)\n",
    "my_list.extend([10,100,1000])\n",
    "print(my_list)\n",
    "\n",
    "# O(n)"
   ]
  },
  {
   "cell_type": "code",
   "execution_count": 26,
   "metadata": {},
   "outputs": [
    {
     "data": {
      "text/plain": [
       "[1, 2]"
      ]
     },
     "execution_count": 26,
     "metadata": {},
     "output_type": "execute_result"
    }
   ],
   "source": [
    "# delete from a list\n",
    "my_list = [1,2,3,4,5,6,7]\n",
    "my_list[0:2]"
   ]
  },
  {
   "cell_type": "code",
   "execution_count": 27,
   "metadata": {},
   "outputs": [
    {
     "data": {
      "text/plain": [
       "[30, 40, 3, 4, 5, 6, 7]"
      ]
     },
     "execution_count": 27,
     "metadata": {},
     "output_type": "execute_result"
    }
   ],
   "source": [
    "my_list[0:2] = [30,40]\n",
    "my_list"
   ]
  },
  {
   "cell_type": "code",
   "execution_count": 30,
   "metadata": {},
   "outputs": [
    {
     "name": "stdout",
     "output_type": "stream",
     "text": [
      "[30, 3, 4, 5, 6]\n"
     ]
    }
   ],
   "source": [
    "my_list.pop()\n",
    "print(my_list)"
   ]
  },
  {
   "cell_type": "code",
   "execution_count": 33,
   "metadata": {},
   "outputs": [],
   "source": [
    "my_list.remove(30)"
   ]
  },
  {
   "cell_type": "code",
   "execution_count": 34,
   "metadata": {},
   "outputs": [
    {
     "data": {
      "text/plain": [
       "5"
      ]
     },
     "execution_count": 34,
     "metadata": {},
     "output_type": "execute_result"
    }
   ],
   "source": [
    "my_list.pop(2)"
   ]
  },
  {
   "cell_type": "code",
   "execution_count": 35,
   "metadata": {},
   "outputs": [],
   "source": [
    "del my_list[2:4]"
   ]
  },
  {
   "cell_type": "code",
   "execution_count": 36,
   "metadata": {},
   "outputs": [
    {
     "data": {
      "text/plain": [
       "True"
      ]
     },
     "execution_count": 36,
     "metadata": {},
     "output_type": "execute_result"
    }
   ],
   "source": [
    "# searching for element in a list\n",
    "my_list = [10,20,30,40,50,60,70,80,90]\n",
    "\n",
    "target = 50\n",
    "\n",
    "target in my_list\n",
    "# O(n) - Python is doing a linear search"
   ]
  },
  {
   "cell_type": "code",
   "execution_count": 37,
   "metadata": {},
   "outputs": [],
   "source": [
    "# liear search\n",
    "# enumerate gives index and element\n",
    "my_list = [10,20,30,40,50,60,70,80,90]\n",
    "\n",
    "def linear_search(list, target):\n",
    "    for i, value in enumerate(list):\n",
    "        if value == target:\n",
    "            return i\n",
    "    return -1"
   ]
  },
  {
   "cell_type": "code",
   "execution_count": 38,
   "metadata": {},
   "outputs": [
    {
     "data": {
      "text/plain": [
       "8"
      ]
     },
     "execution_count": 38,
     "metadata": {},
     "output_type": "execute_result"
    }
   ],
   "source": [
    "linear_search(my_list, 90)"
   ]
  },
  {
   "cell_type": "code",
   "execution_count": 45,
   "metadata": {},
   "outputs": [
    {
     "name": "stdout",
     "output_type": "stream",
     "text": [
      "3\n",
      "1\n",
      "6\n",
      "2.0\n"
     ]
    }
   ],
   "source": [
    "a = [1,2,3]\n",
    "print(max(a))\n",
    "print(min(a))\n",
    "print(sum(a))\n",
    "print(sum(a)/len(a))"
   ]
  },
  {
   "cell_type": "code",
   "execution_count": 49,
   "metadata": {},
   "outputs": [
    {
     "name": "stdout",
     "output_type": "stream",
     "text": [
      "['s', 'm', 'a', 'l', 'l', ' ', 'b', 'i', 'g', ' ', 't', 'a', 'l', 'l']\n"
     ]
    }
   ],
   "source": [
    "a = 'small big tall'\n",
    "b = list(a)\n",
    "print(b)"
   ]
  },
  {
   "cell_type": "code",
   "execution_count": 51,
   "metadata": {},
   "outputs": [
    {
     "name": "stdout",
     "output_type": "stream",
     "text": [
      "[1, 3, 5, 7, 9]\n"
     ]
    }
   ],
   "source": [
    "a=[1,2,3,4,5,6,7,8,9]\n",
    "print(a[::2])"
   ]
  },
  {
   "cell_type": "code",
   "execution_count": 52,
   "metadata": {},
   "outputs": [
    {
     "name": "stdout",
     "output_type": "stream",
     "text": [
      "[4, 3, 2]\n"
     ]
    }
   ],
   "source": [
    "a=[1,2,3,4,5]\n",
    "print(a[3:0:-1])"
   ]
  },
  {
   "cell_type": "code",
   "execution_count": 59,
   "metadata": {},
   "outputs": [],
   "source": [
    "def missing_number(arr, n):\n",
    "    key_list = []\n",
    "    for i in range(0,n):\n",
    "        if arr[0] != 1 and i == 0:\n",
    "            return i + 1\n",
    "        elif i == 0 and arr[0] == 1:\n",
    "            key_list.append(arr[i])\n",
    "        else:\n",
    "            if arr[i] - 1 == key_list[i-1]:\n",
    "                key_list.append(arr[i])\n",
    "            else:\n",
    "                return i + 1\n",
    "    return -1\n",
    "            "
   ]
  },
  {
   "cell_type": "code",
   "execution_count": 60,
   "metadata": {},
   "outputs": [
    {
     "data": {
      "text/plain": [
       "5"
      ]
     },
     "execution_count": 60,
     "metadata": {},
     "output_type": "execute_result"
    }
   ],
   "source": [
    "missing_number([1,2,3,4,6], 6)"
   ]
  },
  {
   "cell_type": "code",
   "execution_count": 4,
   "metadata": {},
   "outputs": [],
   "source": [
    "# 2 sum\n",
    "list_1 = [1,10,7,8,9]\n",
    "list_2 = [8,5,10,11,2]\n",
    "\n",
    "def two_sum(list_1, list_2, target):\n",
    "    for i in range(len(list_1)):\n",
    "        for j in range(len(list_2)):\n",
    "            if list_1[i] + list_2[j] == target:\n",
    "                return i,j,target"
   ]
  },
  {
   "cell_type": "code",
   "execution_count": 6,
   "metadata": {},
   "outputs": [
    {
     "data": {
      "text/plain": [
       "(0, 0, 9)"
      ]
     },
     "execution_count": 6,
     "metadata": {},
     "output_type": "execute_result"
    }
   ],
   "source": [
    "two_sum(list_1, list_2, 9)\n",
    "# time complexity: O(nm)"
   ]
  },
  {
   "cell_type": "code",
   "execution_count": 7,
   "metadata": {},
   "outputs": [],
   "source": [
    "def find_pairs(nums, target):\n",
    "    for i in range(len(nums)):\n",
    "        for j in range(i + 1, len(nums)):\n",
    "            if nums[j] + nums[i] == target:\n",
    "                return i, j, target"
   ]
  },
  {
   "cell_type": "code",
   "execution_count": 19,
   "metadata": {},
   "outputs": [],
   "source": [
    "# one list\n",
    "my_list = [1,2,3,4,5,6,7,8,9]\n",
    "\n",
    "def two_sum(nums, target):\n",
    "\n",
    "    pairs = []\n",
    "\n",
    "    for i in range(len(nums)):\n",
    "        for j in range(i + 1, len(nums)):\n",
    "            if nums[i] + nums[j] == target:\n",
    "                print(nums[i], nums[j])\n",
    "                pairs.append([nums[i], nums[j]])\n",
    "    \n",
    "    return pairs\n"
   ]
  },
  {
   "cell_type": "code",
   "execution_count": 20,
   "metadata": {},
   "outputs": [
    {
     "name": "stdout",
     "output_type": "stream",
     "text": [
      "1 9\n",
      "2 8\n",
      "3 7\n",
      "4 6\n"
     ]
    },
    {
     "data": {
      "text/plain": [
       "[[1, 9], [2, 8], [3, 7], [4, 6]]"
      ]
     },
     "execution_count": 20,
     "metadata": {},
     "output_type": "execute_result"
    }
   ],
   "source": [
    "two_sum(my_list, 10)"
   ]
  },
  {
   "cell_type": "code",
   "execution_count": 21,
   "metadata": {},
   "outputs": [],
   "source": [
    "# search for an item in an array\n",
    "import numpy as np\n",
    "my_array = np.array([1,2,3,4,5,6,7,8,9,1,2,3,4,5,6,7,8,9])"
   ]
  },
  {
   "cell_type": "code",
   "execution_count": 26,
   "metadata": {},
   "outputs": [],
   "source": [
    "def find_number(array, target):\n",
    "    indeces = []\n",
    "    for i in range(len(array)):\n",
    "        if array[i] == target:\n",
    "            indeces.append(i)\n",
    "    \n",
    "    return indeces"
   ]
  },
  {
   "cell_type": "code",
   "execution_count": 27,
   "metadata": {},
   "outputs": [
    {
     "data": {
      "text/plain": [
       "[7, 16]"
      ]
     },
     "execution_count": 27,
     "metadata": {},
     "output_type": "execute_result"
    }
   ],
   "source": [
    "find_number(my_array, 8)"
   ]
  },
  {
   "cell_type": "code",
   "execution_count": 53,
   "metadata": {},
   "outputs": [],
   "source": [
    "my_array = np.array([1,2,3,4,5,6,7,8,9,10,1,2,3,4,5,6,7,8,9])\n",
    "my_array = np.array([1, 7, 3, 4, 9, 5])\n",
    "my_array = np.array([1, 2,3,4,5])\n",
    "# max product in array\n",
    "def max_product(arr):\n",
    "    max_prod = [0]\n",
    "    for i in range(len(arr)):\n",
    "        for j in range(i+1, len(arr)):\n",
    "            if arr[j]*arr[i] > max_prod[0]:\n",
    "                max_prod[0] = arr[j]*arr[i]\n",
    "    return max_prod[0]"
   ]
  },
  {
   "cell_type": "code",
   "execution_count": 54,
   "metadata": {},
   "outputs": [
    {
     "data": {
      "text/plain": [
       "20"
      ]
     },
     "execution_count": 54,
     "metadata": {},
     "output_type": "execute_result"
    }
   ],
   "source": [
    "max_product(my_array)"
   ]
  },
  {
   "cell_type": "code",
   "execution_count": null,
   "metadata": {},
   "outputs": [],
   "source": [
    "# middle list\n",
    "def middle(lst):\n",
    "    if len(lst) > 2:\n",
    "        lst = lst[1:-1]\n",
    "        return lst\n",
    "    else:\n",
    "        return lst"
   ]
  }
 ],
 "metadata": {
  "kernelspec": {
   "display_name": "Python 3",
   "language": "python",
   "name": "python3"
  },
  "language_info": {
   "codemirror_mode": {
    "name": "ipython",
    "version": 3
   },
   "file_extension": ".py",
   "mimetype": "text/x-python",
   "name": "python",
   "nbconvert_exporter": "python",
   "pygments_lexer": "ipython3",
   "version": "3.12.3"
  }
 },
 "nbformat": 4,
 "nbformat_minor": 2
}
