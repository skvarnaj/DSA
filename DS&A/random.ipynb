{
 "cells": [
  {
   "cell_type": "code",
   "execution_count": 20,
   "metadata": {},
   "outputs": [],
   "source": [
    "# diagnoal sum\n",
    "def diagonal_sum(list_2d):\n",
    "    diag_left = 0\n",
    "    diag_right = 0\n",
    "    for i in range(len(list_2d)):\n",
    "        diag_left = diag_left + list_2d[i][i]\n",
    "        diag_right = diag_right + list_2d[-(i+1)][-(i+1)]\n",
    "    \n",
    "    return diag_left, diag_right\n",
    "\n",
    "diagonal_sum([[1,2,3,4],[4,5,6,7],[7,8,9,10],[1,2,3,4]])"
   ]
  },
  {
   "cell_type": "code",
   "execution_count": 24,
   "metadata": {},
   "outputs": [
    {
     "data": {
      "text/plain": [
       "(90, 87)"
      ]
     },
     "execution_count": 24,
     "metadata": {},
     "output_type": "execute_result"
    }
   ],
   "source": [
    "# best score\n",
    "myList = [84,85,86,87,85,90,85,83,23,45,84,1,2,0]\n",
    "# 90 87\n",
    "\n",
    "def best_scores(scores):\n",
    "    best = 0\n",
    "    second = 0\n",
    "    for i in scores:\n",
    "        if i > best:\n",
    "            second = best\n",
    "            best = i\n",
    "\n",
    "    return best, second\n",
    "\n",
    "best_scores(myList)\n",
    "# note: this only works for positive numbers\n",
    "# max1, max2 = float('-inf'), float('-inf')"
   ]
  },
  {
   "cell_type": "code",
   "execution_count": 33,
   "metadata": {},
   "outputs": [
    {
     "data": {
      "text/plain": [
       "[1, 2, 3, 4, 5]"
      ]
     },
     "execution_count": 33,
     "metadata": {},
     "output_type": "execute_result"
    }
   ],
   "source": [
    "# duplicate number\n",
    "duplicates = [1, 1, 2, 2, 3, 4, 5]\n",
    "# Output : [1, 2, 3, 4, 5]\n",
    "\n",
    "def remove_duplicates(dup_list):\n",
    "    non_dup = []\n",
    "    for i in range(len(dup_list)):\n",
    "        if dup_list[i] not in non_dup:\n",
    "            non_dup.append(dup_list[i])\n",
    "\n",
    "    return non_dup\n",
    "\n",
    "remove_duplicates(duplicates)"
   ]
  },
  {
   "cell_type": "code",
   "execution_count": 32,
   "metadata": {},
   "outputs": [
    {
     "data": {
      "text/plain": [
       "{1, 2, 3, 4, 5}"
      ]
     },
     "execution_count": 32,
     "metadata": {},
     "output_type": "execute_result"
    }
   ],
   "source": [
    "test = set(duplicates)\n",
    "test"
   ]
  },
  {
   "cell_type": "code",
   "execution_count": 87,
   "metadata": {},
   "outputs": [
    {
     "data": {
      "text/plain": [
       "['2 + 5', '4 + 3', '3 + 4', '-2 + 9']"
      ]
     },
     "execution_count": 87,
     "metadata": {},
     "output_type": "execute_result"
    }
   ],
   "source": [
    "# pair sum\n",
    "numbers = [2, 4, 3, 5, 6, -2, 4, 7, 8, 9]\n",
    "target = 7\n",
    "#Output : ['2+5', '4+3', '3+4', '-2+9']\n",
    "def pair_sum(nums, target):\n",
    "    output = []\n",
    "    for i in range(len(nums)):\n",
    "        if i != (len(nums) - 1):\n",
    "                for j in range(i + 1, len(nums)):\n",
    "                    test = nums[i] + nums[j]\n",
    "                    if test == target:\n",
    "                        output.append(f\"{nums[i]} + {nums[j]}\")\n",
    "\n",
    "    return output\n",
    "\n",
    "pair_sum(numbers, target)\n"
   ]
  },
  {
   "cell_type": "code",
   "execution_count": 104,
   "metadata": {},
   "outputs": [
    {
     "data": {
      "text/plain": [
       "True"
      ]
     },
     "execution_count": 104,
     "metadata": {},
     "output_type": "execute_result"
    }
   ],
   "source": [
    "# contains duplicates\n",
    "#   Input: nums = [1,2,3,1]\n",
    "#   Output: true\n",
    "\n",
    "def contains_dups(nums):\n",
    "    list = []\n",
    "    alt_list = []\n",
    "    for i in range(len(nums)):\n",
    "        if nums[i] not in list:\n",
    "            list.append(nums[i])\n",
    "        else:\n",
    "            alt_list.append(nums[i])\n",
    "            return True\n",
    "    return False\n",
    "\n",
    "contains_dups([1,2,3,1,4])"
   ]
  },
  {
   "cell_type": "code",
   "execution_count": null,
   "metadata": {},
   "outputs": [],
   "source": []
  }
 ],
 "metadata": {
  "kernelspec": {
   "display_name": "Python 3",
   "language": "python",
   "name": "python3"
  },
  "language_info": {
   "codemirror_mode": {
    "name": "ipython",
    "version": 3
   },
   "file_extension": ".py",
   "mimetype": "text/x-python",
   "name": "python",
   "nbconvert_exporter": "python",
   "pygments_lexer": "ipython3",
   "version": "3.12.3"
  }
 },
 "nbformat": 4,
 "nbformat_minor": 2
}
